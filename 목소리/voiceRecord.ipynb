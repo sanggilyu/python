{
 "cells": [
  {
   "cell_type": "code",
   "execution_count": null,
   "metadata": {},
   "outputs": [],
   "source": [
    "#목소리 녹음\n",
    "#29차시\n",
    "import speech_recognition as sr\n",
    "from playsound import playsound\n",
    "\n",
    "r= sr.Recognizer()\n",
    "with sr.Microphone() as source:\n",
    "    print(\"녹음 시작\")\n",
    "    audio = r.record(source, duration=5)\n",
    "    print(\"녹음 끝\")\n",
    "\n",
    "file_name = \"voice.wav\"\n",
    "with open(file_name, \"wb\") as f:\n",
    "    f.write(audio.get_wav_data())\n",
    "playsound(file_name)"
   ]
  }
 ],
 "metadata": {
  "language_info": {
   "name": "python"
  }
 },
 "nbformat": 4,
 "nbformat_minor": 2
}
